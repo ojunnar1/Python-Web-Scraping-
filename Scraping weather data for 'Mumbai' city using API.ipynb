{
 "cells": [
  {
   "cell_type": "markdown",
   "metadata": {},
   "source": [
    "# Create API Key "
   ]
  },
  {
   "cell_type": "markdown",
   "metadata": {},
   "source": [
    "### 1) First, register on https://www.openweathermap.org/\n",
    "### 2) After successfully registering, obtain the API key"
   ]
  },
  {
   "cell_type": "markdown",
   "metadata": {},
   "source": [
    "#  Import Libraries"
   ]
  },
  {
   "cell_type": "code",
   "execution_count": 86,
   "metadata": {},
   "outputs": [],
   "source": [
    "# Import Libraries\n",
    "import requests as req\n",
    "import json\n",
    "import pandas as pd"
   ]
  },
  {
   "cell_type": "markdown",
   "metadata": {},
   "source": [
    "# Create Query URL"
   ]
  },
  {
   "cell_type": "markdown",
   "metadata": {},
   "source": [
    "### Query URL is the used for getting information from the API"
   ]
  },
  {
   "cell_type": "code",
   "execution_count": 87,
   "metadata": {},
   "outputs": [
    {
     "data": {
      "text/plain": [
       "'http://api.openweathermap.org/data/2.5/weather?apikey=2cd240c12582cb116b1eeb99619e4091&q=Mumbai&units=metric'"
      ]
     },
     "execution_count": 87,
     "metadata": {},
     "output_type": "execute_result"
    }
   ],
   "source": [
    "# Get base URL for Open Weather API\n",
    "base_url= 'http://api.openweathermap.org/data/2.5/weather'\n",
    "\n",
    "# Get API key\n",
    "key= '2cd240c12582cb116b1eeb99619e4091'\n",
    "\n",
    "# Get the Query\n",
    "query_city= 'Mumbai'\n",
    "query_units= 'metric'\n",
    "\n",
    "# Combine everything into final query URL\n",
    "query_url = base_url + \"?apikey=\" + key + \"&q=\" + query_city + \"&units=\" + query_units\n",
    "\n",
    "# Display the final query url\n",
    "query_url\n"
   ]
  },
  {
   "cell_type": "markdown",
   "metadata": {},
   "source": [
    "# Make a Request call and convert to JSON"
   ]
  },
  {
   "cell_type": "markdown",
   "metadata": {},
   "source": [
    "### Using the req.get() method, we'll get back a response from our Weather Map API with the required queries."
   ]
  },
  {
   "cell_type": "code",
   "execution_count": 88,
   "metadata": {},
   "outputs": [
    {
     "data": {
      "text/plain": [
       "<Response [200]>"
      ]
     },
     "execution_count": 88,
     "metadata": {},
     "output_type": "execute_result"
    }
   ],
   "source": [
    "## Perform a Request Call on our search query\n",
    "response= req.get(query_url)\n",
    "response"
   ]
  },
  {
   "cell_type": "markdown",
   "metadata": {},
   "source": [
    "## Convert to JSON"
   ]
  },
  {
   "cell_type": "markdown",
   "metadata": {},
   "source": [
    "### The .json() method help us to obtain the API data in JSON format."
   ]
  },
  {
   "cell_type": "code",
   "execution_count": 89,
   "metadata": {},
   "outputs": [
    {
     "data": {
      "text/plain": [
       "{'coord': {'lon': 72.85, 'lat': 19.01},\n",
       " 'weather': [{'id': 721,\n",
       "   'main': 'Haze',\n",
       "   'description': 'haze',\n",
       "   'icon': '50n'}],\n",
       " 'base': 'stations',\n",
       " 'main': {'temp': 30,\n",
       "  'pressure': 1004,\n",
       "  'humidity': 74,\n",
       "  'temp_min': 30,\n",
       "  'temp_max': 30},\n",
       " 'visibility': 4000,\n",
       " 'wind': {'speed': 3.1, 'deg': 270},\n",
       " 'clouds': {'all': 40},\n",
       " 'dt': 1561222382,\n",
       " 'sys': {'type': 1,\n",
       "  'id': 9052,\n",
       "  'message': 0.0064,\n",
       "  'country': 'IN',\n",
       "  'sunrise': 1561163532,\n",
       "  'sunset': 1561211320},\n",
       " 'timezone': 19800,\n",
       " 'id': 1275339,\n",
       " 'name': 'Mumbai',\n",
       " 'cod': 200}"
      ]
     },
     "execution_count": 89,
     "metadata": {},
     "output_type": "execute_result"
    }
   ],
   "source": [
    "response = response.json()\n",
    "response"
   ]
  },
  {
   "cell_type": "code",
   "execution_count": 90,
   "metadata": {},
   "outputs": [
    {
     "name": "stdout",
     "output_type": "stream",
     "text": [
      "{\n",
      "    \"base\": \"stations\",\n",
      "    \"clouds\": {\n",
      "        \"all\": 40\n",
      "    },\n",
      "    \"cod\": 200,\n",
      "    \"coord\": {\n",
      "        \"lat\": 19.01,\n",
      "        \"lon\": 72.85\n",
      "    },\n",
      "    \"dt\": 1561222382,\n",
      "    \"id\": 1275339,\n",
      "    \"main\": {\n",
      "        \"humidity\": 74,\n",
      "        \"pressure\": 1004,\n",
      "        \"temp\": 30,\n",
      "        \"temp_max\": 30,\n",
      "        \"temp_min\": 30\n",
      "    },\n",
      "    \"name\": \"Mumbai\",\n",
      "    \"sys\": {\n",
      "        \"country\": \"IN\",\n",
      "        \"id\": 9052,\n",
      "        \"message\": 0.0064,\n",
      "        \"sunrise\": 1561163532,\n",
      "        \"sunset\": 1561211320,\n",
      "        \"type\": 1\n",
      "    },\n",
      "    \"timezone\": 19800,\n",
      "    \"visibility\": 4000,\n",
      "    \"weather\": [\n",
      "        {\n",
      "            \"description\": \"haze\",\n",
      "            \"icon\": \"50n\",\n",
      "            \"id\": 721,\n",
      "            \"main\": \"Haze\"\n",
      "        }\n",
      "    ],\n",
      "    \"wind\": {\n",
      "        \"deg\": 270,\n",
      "        \"speed\": 3.1\n",
      "    }\n",
      "}\n"
     ]
    }
   ],
   "source": [
    "## Using json.dumps() allows you to easily read the response output\n",
    "print(json.dumps(response, indent=4, sort_keys=True))\n"
   ]
  },
  {
   "cell_type": "markdown",
   "metadata": {},
   "source": [
    "# Extracting Data from JSON "
   ]
  },
  {
   "cell_type": "markdown",
   "metadata": {},
   "source": [
    "### Now, we will extract data from the JSON format in a similar manner as we extract data from the Python Dictionary."
   ]
  },
  {
   "cell_type": "code",
   "execution_count": 91,
   "metadata": {},
   "outputs": [
    {
     "name": "stdout",
     "output_type": "stream",
     "text": [
      "The temperature is 30\n",
      "The description for the weather is haze\n",
      "The visibility is 4000\n",
      "The wind speed is 3.1\n",
      " Humidity is 74\n",
      " Pressure is 1004\n"
     ]
    }
   ],
   "source": [
    "# Extract the temperature data from the JSON Response\n",
    "temperature = response['main']['temp']\n",
    "print (\"The temperature is \" + str(temperature))\n",
    "\n",
    "# Extract the weather description from the JSON Response\n",
    "weather_description = response['weather'][0]['description']\n",
    "print (\"The description for the weather is \" + weather_description)\n",
    "\n",
    "# Extract visibility from JSON response\n",
    "visibility= response['visibility']\n",
    "print(\"The visibility is \" + str(visibility))\n",
    "\n",
    "# Extract wind speed from JSON response \n",
    "wind_speed= response['wind']['speed']\n",
    "print(\"The wind speed is \" + str(wind_speed))\n",
    "\n",
    "# Extract Humidity from JSON response\n",
    "humidity= response['main']['humidity']\n",
    "print(\" Humidity is \" + str(humidity))\n",
    "\n",
    "# Extract pressure from JSON response\n",
    "pressure= response['main']['pressure']\n",
    "print(\" Pressure is \" + str(pressure))"
   ]
  },
  {
   "cell_type": "markdown",
   "metadata": {},
   "source": [
    "# Create Dictionary to store Data"
   ]
  },
  {
   "cell_type": "code",
   "execution_count": 92,
   "metadata": {},
   "outputs": [],
   "source": [
    "weather_data = {\"Temperature\": temperature, \"Weather Description\": weather_description, \"Visibility\":visibility, \"Wind speed\":wind_speed, \"Humidity\":humidity, \"Pressure\":pressure}"
   ]
  },
  {
   "cell_type": "markdown",
   "metadata": {},
   "source": [
    "# Convert Dictionary to Pandas DataFrame"
   ]
  },
  {
   "cell_type": "code",
   "execution_count": 93,
   "metadata": {},
   "outputs": [
    {
     "data": {
      "text/html": [
       "<div>\n",
       "<style scoped>\n",
       "    .dataframe tbody tr th:only-of-type {\n",
       "        vertical-align: middle;\n",
       "    }\n",
       "\n",
       "    .dataframe tbody tr th {\n",
       "        vertical-align: top;\n",
       "    }\n",
       "\n",
       "    .dataframe thead th {\n",
       "        text-align: right;\n",
       "    }\n",
       "</style>\n",
       "<table border=\"1\" class=\"dataframe\">\n",
       "  <thead>\n",
       "    <tr style=\"text-align: right;\">\n",
       "      <th></th>\n",
       "      <th>Humidity</th>\n",
       "      <th>Pressure</th>\n",
       "      <th>Temperature</th>\n",
       "      <th>Visibility</th>\n",
       "      <th>Weather Description</th>\n",
       "      <th>Wind speed</th>\n",
       "    </tr>\n",
       "  </thead>\n",
       "  <tbody>\n",
       "    <tr>\n",
       "      <th>0</th>\n",
       "      <td>74</td>\n",
       "      <td>1004</td>\n",
       "      <td>30</td>\n",
       "      <td>4000</td>\n",
       "      <td>haze</td>\n",
       "      <td>3.1</td>\n",
       "    </tr>\n",
       "  </tbody>\n",
       "</table>\n",
       "</div>"
      ],
      "text/plain": [
       "   Humidity  Pressure  Temperature  Visibility Weather Description  Wind speed\n",
       "0        74      1004           30        4000                haze         3.1"
      ]
     },
     "execution_count": 93,
     "metadata": {},
     "output_type": "execute_result"
    }
   ],
   "source": [
    "# Convert our dictionary into a Pandas Data Frame\n",
    "weather_data = pd.DataFrame([weather_data])\n",
    "weather_data"
   ]
  }
 ],
 "metadata": {
  "kernelspec": {
   "display_name": "Python 3",
   "language": "python",
   "name": "python3"
  },
  "language_info": {
   "codemirror_mode": {
    "name": "ipython",
    "version": 3
   },
   "file_extension": ".py",
   "mimetype": "text/x-python",
   "name": "python",
   "nbconvert_exporter": "python",
   "pygments_lexer": "ipython3",
   "version": "3.7.3"
  }
 },
 "nbformat": 4,
 "nbformat_minor": 2
}
